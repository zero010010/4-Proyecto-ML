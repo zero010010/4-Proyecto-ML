{
 "cells": [
  {
   "cell_type": "markdown",
   "metadata": {},
   "source": [
    "<span style=\"color:blue\">**Using Machine Learning to Predict Carbon Footprint:<br> \n",
    "Linear Regression (MixMaxScaler)<BR> Ridge Lasso<BR> Gridsearch<br>Cross Validation**</span><br>\n",
    "\n",
    "\n",
    "<img src=\"/Users/miguelopez/Desktop/4-Proyecto ML/img/carbon.png\" width=\"500\">"
   ]
  },
  {
   "cell_type": "code",
   "execution_count": 2,
   "metadata": {},
   "outputs": [],
   "source": [
    "# Libraries\n",
    "import pandas as pd\n",
    "import os # operating system    \n",
    "import matplotlib.pyplot as plt\n",
    "import numpy as np  \n",
    "import seaborn as sns   \n"
   ]
  },
  {
   "cell_type": "code",
   "execution_count": 3,
   "metadata": {},
   "outputs": [
    {
     "name": "stdout",
     "output_type": "stream",
     "text": [
      "/Users/miguelopez/Desktop/4-Proyecto ML/src/notebooks\n"
     ]
    }
   ],
   "source": [
    "print(os.getcwd()) "
   ]
  },
  {
   "cell_type": "markdown",
   "metadata": {},
   "source": [
    "<span style=\"color:green\">**Linear Regression**</span>\n",
    " <br>"
   ]
  },
  {
   "cell_type": "code",
   "execution_count": 4,
   "metadata": {},
   "outputs": [],
   "source": [
    "# import scaled_df\n",
    "df=pd.read_csv('/Users/miguelopez/Desktop/4-Proyecto ML/src/data_processed/df_final.csv')"
   ]
  },
  {
   "cell_type": "code",
   "execution_count": 5,
   "metadata": {},
   "outputs": [
    {
     "data": {
      "text/html": [
       "<div>\n",
       "<style scoped>\n",
       "    .dataframe tbody tr th:only-of-type {\n",
       "        vertical-align: middle;\n",
       "    }\n",
       "\n",
       "    .dataframe tbody tr th {\n",
       "        vertical-align: top;\n",
       "    }\n",
       "\n",
       "    .dataframe thead th {\n",
       "        text-align: right;\n",
       "    }\n",
       "</style>\n",
       "<table border=\"1\" class=\"dataframe\">\n",
       "  <thead>\n",
       "    <tr style=\"text-align: right;\">\n",
       "      <th></th>\n",
       "      <th>Unnamed: 0</th>\n",
       "      <th>Monthly Grocery Bill</th>\n",
       "      <th>Vehicle Monthly Distance Km</th>\n",
       "      <th>Waste Bag Weekly Count</th>\n",
       "      <th>How Long TV PC Daily Hour</th>\n",
       "      <th>How Many New Clothes Monthly</th>\n",
       "      <th>How Long Internet Daily Hour</th>\n",
       "      <th>CarbonEmission</th>\n",
       "      <th>Body Type_normal</th>\n",
       "      <th>Body Type_obese</th>\n",
       "      <th>...</th>\n",
       "      <th>Cooking_With_['Oven']</th>\n",
       "      <th>Cooking_With_['Stove', 'Grill', 'Airfryer']</th>\n",
       "      <th>Cooking_With_['Stove', 'Microwave', 'Grill', 'Airfryer']</th>\n",
       "      <th>Cooking_With_['Stove', 'Microwave']</th>\n",
       "      <th>Cooking_With_['Stove', 'Oven', 'Grill', 'Airfryer']</th>\n",
       "      <th>Cooking_With_['Stove', 'Oven', 'Microwave', 'Grill', 'Airfryer']</th>\n",
       "      <th>Cooking_With_['Stove', 'Oven', 'Microwave']</th>\n",
       "      <th>Cooking_With_['Stove', 'Oven']</th>\n",
       "      <th>Cooking_With_['Stove']</th>\n",
       "      <th>Cooking_With_[]</th>\n",
       "    </tr>\n",
       "  </thead>\n",
       "  <tbody>\n",
       "    <tr>\n",
       "      <th>9995</th>\n",
       "      <td>9995</td>\n",
       "      <td>0.722892</td>\n",
       "      <td>0.026803</td>\n",
       "      <td>0.666667</td>\n",
       "      <td>0.500000</td>\n",
       "      <td>0.54</td>\n",
       "      <td>0.375000</td>\n",
       "      <td>0.260439</td>\n",
       "      <td>0</td>\n",
       "      <td>1</td>\n",
       "      <td>...</td>\n",
       "      <td>0</td>\n",
       "      <td>0</td>\n",
       "      <td>0</td>\n",
       "      <td>0</td>\n",
       "      <td>0</td>\n",
       "      <td>0</td>\n",
       "      <td>0</td>\n",
       "      <td>0</td>\n",
       "      <td>0</td>\n",
       "      <td>0</td>\n",
       "    </tr>\n",
       "    <tr>\n",
       "      <th>9996</th>\n",
       "      <td>9996</td>\n",
       "      <td>0.738956</td>\n",
       "      <td>0.531653</td>\n",
       "      <td>0.333333</td>\n",
       "      <td>0.583333</td>\n",
       "      <td>0.16</td>\n",
       "      <td>1.000000</td>\n",
       "      <td>0.344195</td>\n",
       "      <td>1</td>\n",
       "      <td>0</td>\n",
       "      <td>...</td>\n",
       "      <td>0</td>\n",
       "      <td>0</td>\n",
       "      <td>0</td>\n",
       "      <td>1</td>\n",
       "      <td>0</td>\n",
       "      <td>0</td>\n",
       "      <td>0</td>\n",
       "      <td>0</td>\n",
       "      <td>0</td>\n",
       "      <td>0</td>\n",
       "    </tr>\n",
       "    <tr>\n",
       "      <th>9997</th>\n",
       "      <td>9997</td>\n",
       "      <td>0.995984</td>\n",
       "      <td>0.009601</td>\n",
       "      <td>0.666667</td>\n",
       "      <td>0.458333</td>\n",
       "      <td>0.10</td>\n",
       "      <td>1.000000</td>\n",
       "      <td>0.256598</td>\n",
       "      <td>0</td>\n",
       "      <td>0</td>\n",
       "      <td>...</td>\n",
       "      <td>0</td>\n",
       "      <td>0</td>\n",
       "      <td>0</td>\n",
       "      <td>0</td>\n",
       "      <td>0</td>\n",
       "      <td>0</td>\n",
       "      <td>0</td>\n",
       "      <td>0</td>\n",
       "      <td>0</td>\n",
       "      <td>0</td>\n",
       "    </tr>\n",
       "    <tr>\n",
       "      <th>9998</th>\n",
       "      <td>9998</td>\n",
       "      <td>0.518072</td>\n",
       "      <td>0.868887</td>\n",
       "      <td>0.666667</td>\n",
       "      <td>0.791667</td>\n",
       "      <td>0.28</td>\n",
       "      <td>0.208333</td>\n",
       "      <td>0.528807</td>\n",
       "      <td>0</td>\n",
       "      <td>0</td>\n",
       "      <td>...</td>\n",
       "      <td>0</td>\n",
       "      <td>0</td>\n",
       "      <td>1</td>\n",
       "      <td>0</td>\n",
       "      <td>0</td>\n",
       "      <td>0</td>\n",
       "      <td>0</td>\n",
       "      <td>0</td>\n",
       "      <td>0</td>\n",
       "      <td>0</td>\n",
       "    </tr>\n",
       "    <tr>\n",
       "      <th>9999</th>\n",
       "      <td>9999</td>\n",
       "      <td>0.261044</td>\n",
       "      <td>0.995300</td>\n",
       "      <td>0.500000</td>\n",
       "      <td>0.458333</td>\n",
       "      <td>0.12</td>\n",
       "      <td>0.000000</td>\n",
       "      <td>0.064428</td>\n",
       "      <td>0</td>\n",
       "      <td>1</td>\n",
       "      <td>...</td>\n",
       "      <td>0</td>\n",
       "      <td>0</td>\n",
       "      <td>0</td>\n",
       "      <td>0</td>\n",
       "      <td>0</td>\n",
       "      <td>0</td>\n",
       "      <td>0</td>\n",
       "      <td>0</td>\n",
       "      <td>0</td>\n",
       "      <td>0</td>\n",
       "    </tr>\n",
       "  </tbody>\n",
       "</table>\n",
       "<p>5 rows × 80 columns</p>\n",
       "</div>"
      ],
      "text/plain": [
       "      Unnamed: 0  Monthly Grocery Bill  Vehicle Monthly Distance Km  \\\n",
       "9995        9995              0.722892                     0.026803   \n",
       "9996        9996              0.738956                     0.531653   \n",
       "9997        9997              0.995984                     0.009601   \n",
       "9998        9998              0.518072                     0.868887   \n",
       "9999        9999              0.261044                     0.995300   \n",
       "\n",
       "      Waste Bag Weekly Count  How Long TV PC Daily Hour  \\\n",
       "9995                0.666667                   0.500000   \n",
       "9996                0.333333                   0.583333   \n",
       "9997                0.666667                   0.458333   \n",
       "9998                0.666667                   0.791667   \n",
       "9999                0.500000                   0.458333   \n",
       "\n",
       "      How Many New Clothes Monthly  How Long Internet Daily Hour  \\\n",
       "9995                          0.54                      0.375000   \n",
       "9996                          0.16                      1.000000   \n",
       "9997                          0.10                      1.000000   \n",
       "9998                          0.28                      0.208333   \n",
       "9999                          0.12                      0.000000   \n",
       "\n",
       "      CarbonEmission  Body Type_normal  Body Type_obese  ...  \\\n",
       "9995        0.260439                 0                1  ...   \n",
       "9996        0.344195                 1                0  ...   \n",
       "9997        0.256598                 0                0  ...   \n",
       "9998        0.528807                 0                0  ...   \n",
       "9999        0.064428                 0                1  ...   \n",
       "\n",
       "      Cooking_With_['Oven']  Cooking_With_['Stove', 'Grill', 'Airfryer']  \\\n",
       "9995                      0                                            0   \n",
       "9996                      0                                            0   \n",
       "9997                      0                                            0   \n",
       "9998                      0                                            0   \n",
       "9999                      0                                            0   \n",
       "\n",
       "      Cooking_With_['Stove', 'Microwave', 'Grill', 'Airfryer']  \\\n",
       "9995                                                  0          \n",
       "9996                                                  0          \n",
       "9997                                                  0          \n",
       "9998                                                  1          \n",
       "9999                                                  0          \n",
       "\n",
       "      Cooking_With_['Stove', 'Microwave']  \\\n",
       "9995                                    0   \n",
       "9996                                    1   \n",
       "9997                                    0   \n",
       "9998                                    0   \n",
       "9999                                    0   \n",
       "\n",
       "      Cooking_With_['Stove', 'Oven', 'Grill', 'Airfryer']  \\\n",
       "9995                                                  0     \n",
       "9996                                                  0     \n",
       "9997                                                  0     \n",
       "9998                                                  0     \n",
       "9999                                                  0     \n",
       "\n",
       "      Cooking_With_['Stove', 'Oven', 'Microwave', 'Grill', 'Airfryer']  \\\n",
       "9995                                                  0                  \n",
       "9996                                                  0                  \n",
       "9997                                                  0                  \n",
       "9998                                                  0                  \n",
       "9999                                                  0                  \n",
       "\n",
       "      Cooking_With_['Stove', 'Oven', 'Microwave']  \\\n",
       "9995                                            0   \n",
       "9996                                            0   \n",
       "9997                                            0   \n",
       "9998                                            0   \n",
       "9999                                            0   \n",
       "\n",
       "      Cooking_With_['Stove', 'Oven']  Cooking_With_['Stove']  Cooking_With_[]  \n",
       "9995                               0                       0                0  \n",
       "9996                               0                       0                0  \n",
       "9997                               0                       0                0  \n",
       "9998                               0                       0                0  \n",
       "9999                               0                       0                0  \n",
       "\n",
       "[5 rows x 80 columns]"
      ]
     },
     "execution_count": 5,
     "metadata": {},
     "output_type": "execute_result"
    }
   ],
   "source": [
    "df.tail()"
   ]
  },
  {
   "cell_type": "markdown",
   "metadata": {},
   "source": [
    "curva rock "
   ]
  },
  {
   "cell_type": "code",
   "execution_count": 6,
   "metadata": {},
   "outputs": [],
   "source": [
    "# Split data / convert to numpy array\n",
    "X = df.iloc[:, :-1].values \n",
    "y = df.iloc[:, -1].values\n"
   ]
  },
  {
   "cell_type": "code",
   "execution_count": 7,
   "metadata": {},
   "outputs": [],
   "source": [
    "from sklearn.model_selection import train_test_split\n",
    "\n",
    "X_train, X_test, y_train, y_test = train_test_split(X, y, test_size=0.2) \n",
    "\n"
   ]
  },
  {
   "cell_type": "code",
   "execution_count": 8,
   "metadata": {},
   "outputs": [],
   "source": [
    "from sklearn.linear_model import LinearRegression   \n",
    "model=LinearRegression()\n",
    "model.fit(X_train,y_train)  \n",
    "y_pred = model.predict(X_test)\n"
   ]
  },
  {
   "cell_type": "code",
   "execution_count": 9,
   "metadata": {},
   "outputs": [
    {
     "name": "stdout",
     "output_type": "stream",
     "text": [
      "Linear Regression Metrics\n",
      "--------------------------\n",
      "R2:  1.0\n",
      "MAE:  8.455458555545192e-16\n",
      "MSE:  1.1146358071740016e-30\n",
      "RMSE:  1.055763139711745e-15\n"
     ]
    }
   ],
   "source": [
    "#  Metrics \n",
    "\n",
    "from sklearn.metrics import r2_score, mean_absolute_error, mean_squared_error, median_absolute_error\n",
    "\n",
    "r2 = r2_score(y_test, y_pred)\n",
    "mae = mean_absolute_error(y_test, y_pred) \n",
    "mse = mean_squared_error(y_test, y_pred)\n",
    "rmse = np.sqrt(mse)\n",
    "\n",
    "\n",
    "# Print metrics\n",
    "print(\"Linear Regression Metrics\")\n",
    "print(\"--------------------------\")\n",
    "print(\"R2: \", r2)\n",
    "print(\"MAE: \", mae)\n",
    "print(\"MSE: \", mse)  \n",
    "print(\"RMSE: \", rmse)\n",
    "\n"
   ]
  },
  {
   "cell_type": "markdown",
   "metadata": {},
   "source": [
    "RIDGE AND LASSO"
   ]
  },
  {
   "cell_type": "code",
   "execution_count": 10,
   "metadata": {},
   "outputs": [
    {
     "name": "stdout",
     "output_type": "stream",
     "text": [
      "Ridge and Lasso Regression MinMaxScaler\n",
      "---------------------------\n",
      "Ridge R-squared: 0.9999929796887977\n",
      "Lasso R-squared: 0.00021543552201686023\n",
      "Ridge MAE: 0.0002998276895143288\n",
      "Lasso MAE: 0.11330364483914164\n",
      "Ridge RMSE: 0.0006307125194090344\n",
      "Lasso RMSE: 0.23801618134271801\n",
      "Ridge MSE: 3.9779828213929154e-07\n",
      "Lasso MSE: 0.05665170258096963\n"
     ]
    }
   ],
   "source": [
    "from sklearn.linear_model import Ridge, Lasso\n",
    "from sklearn.metrics import mean_squared_error\n",
    "\n",
    "# Assume X and y are the training features and target\n",
    "\n",
    "# Ridge regression\n",
    "ridge = Ridge(alpha=0.1) \n",
    "ridge.fit(X, y)\n",
    "ridge_preds = ridge.predict(X)\n",
    "ridge_mse = mean_squared_error(y, ridge_preds)\n",
    "\n",
    "# Lasso regression\n",
    "lasso = Lasso(alpha=0.1)\n",
    "lasso.fit(X, y) \n",
    "lasso_preds = lasso.predict(X)\n",
    "lasso_mse = mean_squared_error(y, lasso_preds)\n",
    "# Calculate R-squared\n",
    "ridge_r2 = r2_score(y, ridge_preds)\n",
    "lasso_r2 = r2_score(y, lasso_preds)\n",
    "\n",
    "# Calculate MAE\n",
    "ridge_mae = mean_absolute_error(y, ridge_preds)  \n",
    "lasso_mae = mean_absolute_error(y, lasso_preds)\n",
    "\n",
    "# Calculate RMSE\n",
    "from sklearn.metrics import mean_squared_error\n",
    "ridge_rmse = mean_squared_error(y, ridge_preds, squared=False)\n",
    "lasso_rmse = mean_squared_error(y, lasso_preds, squared=False)\n",
    "\n",
    "\n",
    "print(\"Ridge and Lasso Regression MinMaxScaler\")\n",
    "print(\"---------------------------\")\n",
    "print('Ridge R-squared:', ridge_r2)\n",
    "print('Lasso R-squared:', lasso_r2) \n",
    "\n",
    "print('Ridge MAE:', ridge_mae)\n",
    "print('Lasso MAE:', lasso_mae)\n",
    "\n",
    "print('Ridge RMSE:', ridge_rmse)\n",
    "print('Lasso RMSE:', lasso_rmse)\n",
    "\n",
    "\n",
    "\n",
    "\n",
    "print('Ridge MSE:', ridge_mse) \n",
    "print('Lasso MSE:', lasso_mse)"
   ]
  },
  {
   "cell_type": "code",
   "execution_count": 15,
   "metadata": {},
   "outputs": [
    {
     "data": {
      "image/png": "[encoded data removed]",
      "text/plain": [
       "<Figure size 2000x500 with 4 Axes>"
      ]
     },
     "metadata": {},
     "output_type": "display_data"
    }
   ],
   "source": [
    "# Colors \n",
    "colors = ['blue', 'orange', 'green']\n",
    "\n",
    "# plots\n",
    "fig, axs = plt.subplots(1, 4, figsize=(20,5)) \n",
    "axs[3].bar([0,1,2], [mse, ridge_mse, lasso_mse], width=0.5, color=colors)\n",
    "axs[3].set_xticks([0,1,2])\n",
    "axs[3].set_xticklabels(['Linear Reg', 'Ridge Reg', 'Lasso Reg'])\n",
    "axs[3].set_title('MSE')\n",
    "\n",
    "# R-squared\n",
    "axs[0].bar([0,1,2], [r2, ridge_r2, lasso_r2], width=0.5, color=colors)\n",
    "axs[0].set_title('R-squared')\n",
    "# MAE\n",
    "axs[1].bar([0,1,2], [mae, ridge_mae, lasso_mae], width=0.5, color=colors) \n",
    "axs[1].set_title('MAE')\n",
    "# RMSE\n",
    "axs[2].bar([0,1,2], [rmse, ridge_rmse, lasso_rmse], width=0.5, color=colors)\n",
    "axs[2].set_title('RMSE')\n",
    "\n",
    "plt.tight_layout()\n",
    "plt.show()"
   ]
  },
  {
   "cell_type": "markdown",
   "metadata": {},
   "source": [
    "TUNNING GRIDSEARCH"
   ]
  },
  {
   "cell_type": "code",
   "execution_count": 12,
   "metadata": {},
   "outputs": [
    {
     "name": "stdout",
     "output_type": "stream",
     "text": [
      "Best parameters: {'alpha': 0.1}\n",
      "Best score ridge MSE gridsearch: -1.4147984004290585e-06\n"
     ]
    }
   ],
   "source": [
    "from sklearn.model_selection import GridSearchCV\n",
    "\n",
    "ridge = Ridge()\n",
    "\n",
    "params = {'alpha': [0.1, 1, 10, 100, 1000]}\n",
    "\n",
    "gs = GridSearchCV(ridge, params, scoring='neg_mean_squared_error', cv=3)\n",
    "gs.fit(X_train, y_train)\n",
    "\n",
    "print(\"Best parameters:\", gs.best_params_)\n",
    "print(\"Best score ridge MSE gridsearch:\", gs.best_score_)\n",
    "\n",
    "best_ridge = gs.best_estimator_\n",
    "ridge_preds = best_ridge.predict(X_test)"
   ]
  },
  {
   "cell_type": "markdown",
   "metadata": {},
   "source": [
    "CROSS VALIDATION"
   ]
  },
  {
   "cell_type": "code",
   "execution_count": 13,
   "metadata": {},
   "outputs": [
    {
     "name": "stdout",
     "output_type": "stream",
     "text": [
      "Cross-validation scores: [1. 1.]\n",
      "Average cross-validation score:  1.0\n",
      "R-squared of cross-validation score:  1.0\n",
      "rmse of cross-validation score:  1.0\n",
      "mse of cross-validation score:  1.0\n"
     ]
    }
   ],
   "source": [
    "from sklearn.model_selection import cross_val_score\n",
    "\n",
    "cross_val = LinearRegression()\n",
    "\n",
    "# Perform 2-fold cross validation\n",
    "cv_scores = cross_val_score(cross_val, X, y, cv=2)\n",
    "\n",
    "print(\"Cross-validation scores:\", cv_scores)\n",
    "print(\"Average cross-validation score: \", cv_scores.mean())\n",
    "print(\"R-squared of cross-validation score: \", np.mean(cv_scores)**2)   \n",
    "print(\"rmse of cross-validation score: \", np.sqrt(np.mean(cv_scores)))\n",
    "print(\"mse of cross-validation score: \", np.mean(cv_scores))    \n",
    "\n"
   ]
  },
  {
   "cell_type": "markdown",
   "metadata": {},
   "source": [
    "<!-- gridsearch / validacion cruzada -->"
   ]
  },
  {
   "cell_type": "markdown",
   "metadata": {},
   "source": []
  }
 ],
 "metadata": {
  "kernelspec": {
   "display_name": "Python 3",
   "language": "python",
   "name": "python3"
  },
  "language_info": {
   "codemirror_mode": {
    "name": "ipython",
    "version": 3
   },
   "file_extension": ".py",
   "mimetype": "text/x-python",
   "name": "python",
   "nbconvert_exporter": "python",
   "pygments_lexer": "ipython3",
   "version": "3.11.4"
  }
 },
 "nbformat": 4,
 "nbformat_minor": 2
}
