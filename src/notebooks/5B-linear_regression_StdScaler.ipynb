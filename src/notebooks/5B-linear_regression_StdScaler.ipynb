{
 "cells": [
  {
   "cell_type": "markdown",
   "metadata": {},
   "source": [
    "<span style=\"color:blue\">**Using Machine Learning to Predict Carbon Footprint:<br> \n",
    "Linear Regression (StandardScaler)<BR> Ridge Lasso<BR> Gridsearch<br>Cross Validation**</span><br>\n",
    "\n",
    "\n",
    "<img src=\"/Users/miguelopez/Desktop/4-Proyecto ML/img/carbon.png\" width=\"500\">"
   ]
  },
  {
   "cell_type": "code",
   "execution_count": 1,
   "metadata": {},
   "outputs": [],
   "source": [
    "# Libraries\n",
    "import pandas as pd\n",
    "import os # operating system    \n",
    "import matplotlib.pyplot as plt\n",
    "import numpy as np  \n",
    "import seaborn as sns   \n"
   ]
  },
  {
   "cell_type": "code",
   "execution_count": 2,
   "metadata": {},
   "outputs": [
    {
     "name": "stdout",
     "output_type": "stream",
     "text": [
      "/Users/miguelopez/Desktop/4-Proyecto ML/src/notebooks\n"
     ]
    }
   ],
   "source": [
    "print(os.getcwd()) "
   ]
  },
  {
   "cell_type": "markdown",
   "metadata": {},
   "source": [
    "<span style=\"color:green\">**Linear Regression**</span>\n",
    " <br>"
   ]
  },
  {
   "cell_type": "code",
   "execution_count": 3,
   "metadata": {},
   "outputs": [],
   "source": [
    "# import scaled_df\n",
    "df=pd.read_csv('/Users/miguelopez/Desktop/4-Proyecto ML/src/data_processed/df_scaled.csv')"
   ]
  },
  {
   "cell_type": "code",
   "execution_count": 4,
   "metadata": {},
   "outputs": [
    {
     "data": {
      "text/html": [
       "<div>\n",
       "<style scoped>\n",
       "    .dataframe tbody tr th:only-of-type {\n",
       "        vertical-align: middle;\n",
       "    }\n",
       "\n",
       "    .dataframe tbody tr th {\n",
       "        vertical-align: top;\n",
       "    }\n",
       "\n",
       "    .dataframe thead th {\n",
       "        text-align: right;\n",
       "    }\n",
       "</style>\n",
       "<table border=\"1\" class=\"dataframe\">\n",
       "  <thead>\n",
       "    <tr style=\"text-align: right;\">\n",
       "      <th></th>\n",
       "      <th>Body Type</th>\n",
       "      <th>Sex</th>\n",
       "      <th>Diet</th>\n",
       "      <th>How Often Shower</th>\n",
       "      <th>Heating Energy Source</th>\n",
       "      <th>Transport</th>\n",
       "      <th>Vehicle Type</th>\n",
       "      <th>Social Activity</th>\n",
       "      <th>Monthly Grocery Bill</th>\n",
       "      <th>Frequency of Traveling by Air</th>\n",
       "      <th>Vehicle Monthly Distance Km</th>\n",
       "      <th>Waste Bag Size</th>\n",
       "      <th>Waste Bag Weekly Count</th>\n",
       "      <th>How Long TV PC Daily Hour</th>\n",
       "      <th>How Many New Clothes Monthly</th>\n",
       "      <th>How Long Internet Daily Hour</th>\n",
       "      <th>Energy efficiency</th>\n",
       "      <th>Recycling</th>\n",
       "      <th>Cooking_With</th>\n",
       "      <th>CarbonEmission</th>\n",
       "    </tr>\n",
       "  </thead>\n",
       "  <tbody>\n",
       "    <tr>\n",
       "      <th>9995</th>\n",
       "      <td>1</td>\n",
       "      <td>1</td>\n",
       "      <td>0</td>\n",
       "      <td>3</td>\n",
       "      <td>0</td>\n",
       "      <td>0</td>\n",
       "      <td>2</td>\n",
       "      <td>2</td>\n",
       "      <td>230</td>\n",
       "      <td>1</td>\n",
       "      <td>268</td>\n",
       "      <td>2</td>\n",
       "      <td>5</td>\n",
       "      <td>12</td>\n",
       "      <td>27</td>\n",
       "      <td>9</td>\n",
       "      <td>2</td>\n",
       "      <td>15</td>\n",
       "      <td>2</td>\n",
       "      <td>2408</td>\n",
       "    </tr>\n",
       "    <tr>\n",
       "      <th>9996</th>\n",
       "      <td>0</td>\n",
       "      <td>0</td>\n",
       "      <td>2</td>\n",
       "      <td>3</td>\n",
       "      <td>0</td>\n",
       "      <td>0</td>\n",
       "      <td>3</td>\n",
       "      <td>0</td>\n",
       "      <td>234</td>\n",
       "      <td>0</td>\n",
       "      <td>5316</td>\n",
       "      <td>0</td>\n",
       "      <td>3</td>\n",
       "      <td>14</td>\n",
       "      <td>8</td>\n",
       "      <td>24</td>\n",
       "      <td>1</td>\n",
       "      <td>9</td>\n",
       "      <td>9</td>\n",
       "      <td>3084</td>\n",
       "    </tr>\n",
       "    <tr>\n",
       "      <th>9997</th>\n",
       "      <td>2</td>\n",
       "      <td>0</td>\n",
       "      <td>3</td>\n",
       "      <td>0</td>\n",
       "      <td>1</td>\n",
       "      <td>2</td>\n",
       "      <td>5</td>\n",
       "      <td>2</td>\n",
       "      <td>298</td>\n",
       "      <td>3</td>\n",
       "      <td>96</td>\n",
       "      <td>0</td>\n",
       "      <td>5</td>\n",
       "      <td>11</td>\n",
       "      <td>5</td>\n",
       "      <td>24</td>\n",
       "      <td>2</td>\n",
       "      <td>8</td>\n",
       "      <td>1</td>\n",
       "      <td>2377</td>\n",
       "    </tr>\n",
       "    <tr>\n",
       "      <th>9998</th>\n",
       "      <td>3</td>\n",
       "      <td>1</td>\n",
       "      <td>2</td>\n",
       "      <td>2</td>\n",
       "      <td>0</td>\n",
       "      <td>0</td>\n",
       "      <td>4</td>\n",
       "      <td>1</td>\n",
       "      <td>179</td>\n",
       "      <td>2</td>\n",
       "      <td>8688</td>\n",
       "      <td>2</td>\n",
       "      <td>5</td>\n",
       "      <td>19</td>\n",
       "      <td>14</td>\n",
       "      <td>5</td>\n",
       "      <td>1</td>\n",
       "      <td>5</td>\n",
       "      <td>8</td>\n",
       "      <td>4574</td>\n",
       "    </tr>\n",
       "    <tr>\n",
       "      <th>9999</th>\n",
       "      <td>1</td>\n",
       "      <td>1</td>\n",
       "      <td>1</td>\n",
       "      <td>3</td>\n",
       "      <td>3</td>\n",
       "      <td>0</td>\n",
       "      <td>1</td>\n",
       "      <td>2</td>\n",
       "      <td>115</td>\n",
       "      <td>1</td>\n",
       "      <td>9952</td>\n",
       "      <td>3</td>\n",
       "      <td>4</td>\n",
       "      <td>11</td>\n",
       "      <td>6</td>\n",
       "      <td>0</td>\n",
       "      <td>1</td>\n",
       "      <td>11</td>\n",
       "      <td>3</td>\n",
       "      <td>826</td>\n",
       "    </tr>\n",
       "  </tbody>\n",
       "</table>\n",
       "</div>"
      ],
      "text/plain": [
       "      Body Type  Sex  Diet  How Often Shower  Heating Energy Source  \\\n",
       "9995          1    1     0                 3                      0   \n",
       "9996          0    0     2                 3                      0   \n",
       "9997          2    0     3                 0                      1   \n",
       "9998          3    1     2                 2                      0   \n",
       "9999          1    1     1                 3                      3   \n",
       "\n",
       "      Transport  Vehicle Type  Social Activity  Monthly Grocery Bill  \\\n",
       "9995          0             2                2                   230   \n",
       "9996          0             3                0                   234   \n",
       "9997          2             5                2                   298   \n",
       "9998          0             4                1                   179   \n",
       "9999          0             1                2                   115   \n",
       "\n",
       "      Frequency of Traveling by Air  Vehicle Monthly Distance Km  \\\n",
       "9995                              1                          268   \n",
       "9996                              0                         5316   \n",
       "9997                              3                           96   \n",
       "9998                              2                         8688   \n",
       "9999                              1                         9952   \n",
       "\n",
       "      Waste Bag Size  Waste Bag Weekly Count  How Long TV PC Daily Hour  \\\n",
       "9995               2                       5                         12   \n",
       "9996               0                       3                         14   \n",
       "9997               0                       5                         11   \n",
       "9998               2                       5                         19   \n",
       "9999               3                       4                         11   \n",
       "\n",
       "      How Many New Clothes Monthly  How Long Internet Daily Hour  \\\n",
       "9995                            27                             9   \n",
       "9996                             8                            24   \n",
       "9997                             5                            24   \n",
       "9998                            14                             5   \n",
       "9999                             6                             0   \n",
       "\n",
       "      Energy efficiency  Recycling  Cooking_With  CarbonEmission  \n",
       "9995                  2         15             2            2408  \n",
       "9996                  1          9             9            3084  \n",
       "9997                  2          8             1            2377  \n",
       "9998                  1          5             8            4574  \n",
       "9999                  1         11             3             826  "
      ]
     },
     "execution_count": 4,
     "metadata": {},
     "output_type": "execute_result"
    }
   ],
   "source": [
    "df.tail()"
   ]
  },
  {
   "cell_type": "code",
   "execution_count": 5,
   "metadata": {},
   "outputs": [],
   "source": [
    "#Scaling\n",
    "# from sklearn.preprocessing import MinMaxScaler\n",
    "# scaler = MinMaxScaler()\n",
    "# df[numerical] = scaler.fit_transform(df[numerical])"
   ]
  },
  {
   "cell_type": "code",
   "execution_count": 6,
   "metadata": {},
   "outputs": [],
   "source": [
    "# Split data / convert to numpy array\n",
    "X = df.iloc[:, :-1].values \n",
    "y = df.iloc[:, -1].values\n"
   ]
  },
  {
   "cell_type": "code",
   "execution_count": 7,
   "metadata": {},
   "outputs": [],
   "source": [
    "from sklearn.model_selection import train_test_split\n",
    "\n",
    "X_train, X_test, y_train, y_test = train_test_split(X, y, test_size=0.2) \n"
   ]
  },
  {
   "cell_type": "code",
   "execution_count": 8,
   "metadata": {},
   "outputs": [],
   "source": [
    "from sklearn.linear_model import LinearRegression   \n",
    "model=LinearRegression()\n",
    "model.fit(X_train,y_train) \n",
    "y_pred=model.predict(X_test)    "
   ]
  },
  {
   "cell_type": "code",
   "execution_count": 9,
   "metadata": {},
   "outputs": [
    {
     "name": "stdout",
     "output_type": "stream",
     "text": [
      "Linear Regression Metrics\n",
      "--------------------------\n",
      "R2:  0.5510586077867407\n",
      "MAE:  546.702074104053\n",
      "MSE:  466610.4057016466\n",
      "RMSE:  683.0888710128768\n"
     ]
    }
   ],
   "source": [
    "#  Metrics \n",
    "\n",
    "from sklearn.metrics import r2_score, mean_absolute_error, mean_squared_error, median_absolute_error\n",
    "\n",
    "r2 = r2_score(y_test, y_pred)\n",
    "mae = mean_absolute_error(y_test, y_pred) \n",
    "mse = mean_squared_error(y_test, y_pred)\n",
    "rmse = np.sqrt(mse)\n",
    "\n",
    "\n",
    "# Print metrics\n",
    "print(\"Linear Regression Metrics\")\n",
    "print(\"--------------------------\")\n",
    "print(\"R2: \", r2)\n",
    "print(\"MAE: \", mae)\n",
    "print(\"MSE: \", mse)  \n",
    "print(\"RMSE: \", rmse)\n",
    "\n"
   ]
  },
  {
   "cell_type": "markdown",
   "metadata": {},
   "source": [
    "RIDGE AND LASSO"
   ]
  },
  {
   "cell_type": "code",
   "execution_count": 10,
   "metadata": {},
   "outputs": [
    {
     "name": "stdout",
     "output_type": "stream",
     "text": [
      "Ridge and Lasso Regression\n",
      "---------------------------\n",
      "Ridge R-squared: 0.5563038107573735\n",
      "Lasso R-squared: 0.5543904078271111\n",
      "Ridge MAE: 540.1057611521613\n",
      "Lasso MAE: 540.1751314207003\n",
      "Ridge RMSE: 677.8449184188424\n",
      "Lasso RMSE: 679.304921006881\n",
      "Ridge MSE: 459473.7334262472\n",
      "Lasso MSE: 461455.17570416495\n"
     ]
    }
   ],
   "source": [
    "from sklearn.linear_model import Ridge, Lasso\n",
    "from sklearn.metrics import mean_squared_error\n",
    "\n",
    "# Assume X and y are the training features and target\n",
    "\n",
    "# Ridge regression\n",
    "ridge = Ridge(alpha=10) \n",
    "ridge.fit(X, y)\n",
    "ridge_preds = ridge.predict(X)\n",
    "ridge_mse = mean_squared_error(y, ridge_preds)\n",
    "\n",
    "# Lasso regression\n",
    "lasso = Lasso(alpha=10)\n",
    "lasso.fit(X, y) \n",
    "lasso_preds = lasso.predict(X)\n",
    "lasso_mse = mean_squared_error(y, lasso_preds)\n",
    "# Calculate R-squared\n",
    "ridge_r2 = r2_score(y, ridge_preds)\n",
    "lasso_r2 = r2_score(y, lasso_preds)\n",
    "\n",
    "# Calculate MAE\n",
    "ridge_mae = mean_absolute_error(y, ridge_preds)  \n",
    "lasso_mae = mean_absolute_error(y, lasso_preds)\n",
    "\n",
    "# Calculate RMSE\n",
    "from sklearn.metrics import mean_squared_error\n",
    "ridge_rmse = mean_squared_error(y, ridge_preds, squared=False)\n",
    "lasso_rmse = mean_squared_error(y, lasso_preds, squared=False)\n",
    "\n",
    "\n",
    "print(\"Ridge and Lasso Regression\")\n",
    "print(\"---------------------------\")\n",
    "print('Ridge R-squared:', ridge_r2)\n",
    "print('Lasso R-squared:', lasso_r2) \n",
    "\n",
    "print('Ridge MAE:', ridge_mae)\n",
    "print('Lasso MAE:', lasso_mae)\n",
    "\n",
    "print('Ridge RMSE:', ridge_rmse)\n",
    "print('Lasso RMSE:', lasso_rmse)\n",
    "\n",
    "\n",
    "\n",
    "\n",
    "print('Ridge MSE:', ridge_mse) \n",
    "print('Lasso MSE:', lasso_mse)"
   ]
  },
  {
   "cell_type": "code",
   "execution_count": 11,
   "metadata": {},
   "outputs": [
    {
     "data": {
      "image/png": "[encoded data removed]",
      "text/plain": [
       "<Figure size 2000x500 with 4 Axes>"
      ]
     },
     "metadata": {},
     "output_type": "display_data"
    }
   ],
   "source": [
    "# Colors  \n",
    "colors = ['blue', 'orange', 'green']\n",
    "\n",
    "# plots\n",
    "fig, axs = plt.subplots(1, 4, figsize=(20,5)) \n",
    "axs[3].bar([0,1,2], [mse, ridge_mse, lasso_mse], width=0.5, color=colors)\n",
    "axs[3].set_xticks([0,1,2])\n",
    "axs[3].set_xticklabels(['Linear Reg', 'Ridge Reg', 'Lasso Reg'])\n",
    "axs[3].set_title('MSE')\n",
    "\n",
    "# R-squared\n",
    "axs[0].bar([0,1,2], [r2, ridge_r2, lasso_r2], width=0.5, color=colors)\n",
    "axs[0].set_title('R-squared')\n",
    "# MAE\n",
    "axs[1].bar([0,1,2], [mae, ridge_mae, lasso_mae], width=0.5, color=colors) \n",
    "axs[1].set_title('MAE')\n",
    "# RMSE\n",
    "axs[2].bar([0,1,2], [rmse, ridge_rmse, lasso_rmse], width=0.5, color=colors)\n",
    "axs[2].set_title('RMSE')\n",
    "\n",
    "plt.tight_layout()\n",
    "plt.show()"
   ]
  },
  {
   "cell_type": "markdown",
   "metadata": {},
   "source": [
    "TUNNING GRIDSEARCH"
   ]
  },
  {
   "cell_type": "code",
   "execution_count": 12,
   "metadata": {},
   "outputs": [
    {
     "name": "stdout",
     "output_type": "stream",
     "text": [
      "Best parameters: {'alpha': 10}\n",
      "Best score ridge MSE gridsearch: -460876.76642206125\n"
     ]
    }
   ],
   "source": [
    "from sklearn.model_selection import GridSearchCV\n",
    "\n",
    "ridge = Ridge()\n",
    "\n",
    "params = {'alpha': [0.1, 1, 10, 100, 1000]}\n",
    "\n",
    "gs = GridSearchCV(ridge, params, scoring='neg_mean_squared_error', cv=5)\n",
    "gs.fit(X_train, y_train)\n",
    "\n",
    "print(\"Best parameters:\", gs.best_params_)\n",
    "print(\"Best score ridge MSE gridsearch:\", gs.best_score_)\n",
    "\n",
    "best_ridge = gs.best_estimator_\n",
    "ridge_preds = best_ridge.predict(X_test)"
   ]
  },
  {
   "cell_type": "markdown",
   "metadata": {},
   "source": [
    "CROSS VALIDATION"
   ]
  },
  {
   "cell_type": "code",
   "execution_count": 13,
   "metadata": {},
   "outputs": [
    {
     "name": "stdout",
     "output_type": "stream",
     "text": [
      "Cross-validation scores: [0.52477419 0.58313746 0.57090846 0.53234366 0.54742185]\n",
      "Average cross-validation score:  0.5517171238996029\n",
      "R-squared of cross-validation score:  0.3043917848040498\n",
      "rmse of cross-validation score:  0.7427766312287988\n",
      "mse of cross-validation score:  0.5517171238996029\n"
     ]
    }
   ],
   "source": [
    "from sklearn.model_selection import cross_val_score\n",
    "\n",
    "cross_val = LinearRegression()\n",
    "\n",
    "# Perform 5-fold cross validation\n",
    "cv_scores = cross_val_score(cross_val, X, y, cv=5)\n",
    "\n",
    "print(\"Cross-validation scores:\", cv_scores)\n",
    "print(\"Average cross-validation score: \", cv_scores.mean())\n",
    "print(\"R-squared of cross-validation score: \", np.mean(cv_scores)**2)   \n",
    "print(\"rmse of cross-validation score: \", np.sqrt(np.mean(cv_scores)))\n",
    "print(\"mse of cross-validation score: \", np.mean(cv_scores))    \n",
    "\n"
   ]
  },
  {
   "cell_type": "markdown",
   "metadata": {},
   "source": [
    "<!-- gridsearch / validacion cruzada -->"
   ]
  },
  {
   "cell_type": "markdown",
   "metadata": {},
   "source": [
    "Baseline Linear Regression:\n",
    "\n",
    "MSE: 456815\n",
    "\n",
    "Ridge Regression (alpha = 10):\n",
    "\n",
    "Best MSE: -462436\n",
    "Best Score: -462436\n"
   ]
  }
 ],
 "metadata": {
  "kernelspec": {
   "display_name": "Python 3",
   "language": "python",
   "name": "python3"
  },
  "language_info": {
   "codemirror_mode": {
    "name": "ipython",
    "version": 3
   },
   "file_extension": ".py",
   "mimetype": "text/x-python",
   "name": "python",
   "nbconvert_exporter": "python",
   "pygments_lexer": "ipython3",
   "version": "3.11.4"
  }
 },
 "nbformat": 4,
 "nbformat_minor": 2
}
